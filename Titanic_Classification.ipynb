{
  "nbformat": 4,
  "nbformat_minor": 0,
  "metadata": {
    "colab": {
      "provenance": [],
      "authorship_tag": "ABX9TyOt7xG2CYUwoNpWRgmrgcRg",
      "include_colab_link": true
    },
    "kernelspec": {
      "name": "python3",
      "display_name": "Python 3"
    },
    "language_info": {
      "name": "python"
    }
  },
  "cells": [
    {
      "cell_type": "markdown",
      "metadata": {
        "id": "view-in-github",
        "colab_type": "text"
      },
      "source": [
        "<a href=\"https://colab.research.google.com/github/lokesh89414/Titanic-Classification/blob/main/Titanic_Classification.ipynb\" target=\"_parent\"><img src=\"https://colab.research.google.com/assets/colab-badge.svg\" alt=\"Open In Colab\"/></a>"
      ]
    },
    {
      "cell_type": "code",
      "execution_count": 4,
      "metadata": {
        "colab": {
          "base_uri": "https://localhost:8080/"
        },
        "id": "NxZy1DOpbgVr",
        "outputId": "3154cf3a-5b10-4c44-a4a6-ffcea0aab784"
      },
      "outputs": [
        {
          "output_type": "stream",
          "name": "stdout",
          "text": [
            "0.3714140814763085\n",
            "Enter Class: 3\n",
            "Enter Gender(enter 0 for male and 1 for female): 1\n",
            "Enter Age: 22\n",
            "Enter Place Embarked(1 for Southampton, 2 for Queenstown, 3 for Cherbourg): 1\n",
            "Not Saved\n"
          ]
        }
      ],
      "source": [
        "import pandas as pd\n",
        "import numpy as np\n",
        "from sklearn.model_selection import train_test_split\n",
        "from sklearn.linear_model import LinearRegression\n",
        "from sklearn.metrics import mean_squared_error, r2_score\n",
        "from sklearn.preprocessing import StandardScaler\n",
        "\n",
        "df = pd.read_csv('titanic.csv')\n",
        "df=df.dropna()\n",
        "df.loc[df['Gender']=='male','label_sex']=0\n",
        "df.loc[df['Gender']=='female','label_sex']=1\n",
        "df.loc[df['Embarked']=='Southampton','label_embarked']=1\n",
        "df.loc[df['Embarked']=='Queenstown','label_embarked']=2\n",
        "df.loc[df['Embarked']=='Cherbourg','label_embarked']=3\n",
        "\n",
        "X = df[['Pclass','label_sex','Age','label_embarked']]\n",
        "y = df['Survived']\n",
        "\n",
        "X_train, X_test, y_train, y_test = train_test_split(X, y, test_size=0.2, random_state=3)\n",
        "\n",
        "scaler = StandardScaler()\n",
        "X_train_scaled = scaler.fit_transform(X_train)\n",
        "X_test_scaled = scaler.transform(X_test)\n",
        "\n",
        "model = LinearRegression()\n",
        "model.fit(X_train_scaled, y_train)\n",
        "\n",
        "y_pred = model.predict(X_test_scaled)\n",
        "mse = mean_squared_error(y_test, y_pred)\n",
        "rmse = np.sqrt(mse)\n",
        "r2 = r2_score(y_test, y_pred)\n",
        "print(r2)\n",
        "\n",
        "def prediction(model, scaler):\n",
        "    Pclass = int(input(\"Enter Class: \"))\n",
        "    label_sex = int(input(\"Enter Gender(enter 0 for male and 1 for female): \"))\n",
        "    Age = int(input(\"Enter Age: \"))\n",
        "    # Added a more descriptive prompt and options for the user\n",
        "    label_embarked = int(input(\"Enter Place Embarked(1 for Southampton, 2 for Queenstown, 3 for Cherbourg): \"))\n",
        "\n",
        "    user_input = np.array([Pclass, label_sex, label_sex, label_embarked])\n",
        "    user_input_df = pd.DataFrame([user_input], columns=X.columns)\n",
        "\n",
        "    user_input_scaled = scaler.transform(user_input_df)\n",
        "\n",
        "    prediction= model.predict(user_input_scaled)\n",
        "\n",
        "    if prediction[0]==1:\n",
        "        print(\"Saved\")\n",
        "    else:\n",
        "        print(\"Not Saved\")\n",
        "\n",
        "prediction(model, scaler)"
      ]
    }
  ]
}